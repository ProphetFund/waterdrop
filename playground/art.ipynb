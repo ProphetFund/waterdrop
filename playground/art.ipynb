{
 "cells": [
  {
   "cell_type": "code",
   "execution_count": 4,
   "metadata": {},
   "outputs": [
    {
     "ename": "KeyboardInterrupt",
     "evalue": "",
     "output_type": "error",
     "traceback": [
      "\u001b[0;31m---------------------------------------------------------------------------\u001b[0m",
      "\u001b[0;31mKeyboardInterrupt\u001b[0m                         Traceback (most recent call last)",
      "\u001b[1;32m/home/hugo/Dropbox/Projects/waterdrop/playground/art.ipynb Cell 1\u001b[0m in \u001b[0;36m<cell line: 37>\u001b[0;34m()\u001b[0m\n\u001b[1;32m     <a href='vscode-notebook-cell:/home/hugo/Dropbox/Projects/waterdrop/playground/art.ipynb#ch0000000?line=33'>34</a>\u001b[0m     circle(\u001b[39m0\u001b[39m\u001b[39m-\u001b[39m(angle\u001b[39m/\u001b[39mrevolutions), \u001b[39m1\u001b[39m)\n\u001b[1;32m     <a href='vscode-notebook-cell:/home/hugo/Dropbox/Projects/waterdrop/playground/art.ipynb#ch0000000?line=34'>35</a>\u001b[0m     time\u001b[39m.\u001b[39msleep(\u001b[39m0.005\u001b[39m)\n\u001b[0;32m---> <a href='vscode-notebook-cell:/home/hugo/Dropbox/Projects/waterdrop/playground/art.ipynb#ch0000000?line=36'>37</a>\u001b[0m exitonclick()\n",
      "File \u001b[0;32m<string>:8\u001b[0m, in \u001b[0;36mexitonclick\u001b[0;34m()\u001b[0m\n",
      "File \u001b[0;32m/usr/lib/python3.8/turtle.py:3795\u001b[0m, in \u001b[0;36m_Screen.exitonclick\u001b[0;34m(self)\u001b[0m\n\u001b[1;32m   3793\u001b[0m     \u001b[39mreturn\u001b[39;00m\n\u001b[1;32m   3794\u001b[0m \u001b[39mtry\u001b[39;00m:\n\u001b[0;32m-> 3795\u001b[0m     mainloop()\n\u001b[1;32m   3796\u001b[0m \u001b[39mexcept\u001b[39;00m \u001b[39mAttributeError\u001b[39;00m:\n\u001b[1;32m   3797\u001b[0m     exit(\u001b[39m0\u001b[39m)\n",
      "File \u001b[0;32m<string>:8\u001b[0m, in \u001b[0;36mmainloop\u001b[0;34m()\u001b[0m\n",
      "File \u001b[0;32m/usr/lib/python3.8/turtle.py:812\u001b[0m, in \u001b[0;36mTurtleScreenBase.mainloop\u001b[0;34m(self)\u001b[0m\n\u001b[1;32m    799\u001b[0m \u001b[39mdef\u001b[39;00m \u001b[39mmainloop\u001b[39m(\u001b[39mself\u001b[39m):\n\u001b[1;32m    800\u001b[0m     \u001b[39m\"\"\"Starts event loop - calling Tkinter's mainloop function.\u001b[39;00m\n\u001b[1;32m    801\u001b[0m \n\u001b[1;32m    802\u001b[0m \u001b[39m    No argument.\u001b[39;00m\n\u001b[0;32m   (...)\u001b[0m\n\u001b[1;32m    810\u001b[0m \n\u001b[1;32m    811\u001b[0m \u001b[39m    \"\"\"\u001b[39;00m\n\u001b[0;32m--> 812\u001b[0m     \u001b[39mself\u001b[39;49m\u001b[39m.\u001b[39;49mcv\u001b[39m.\u001b[39;49mtk\u001b[39m.\u001b[39;49mmainloop()\n",
      "\u001b[0;31mKeyboardInterrupt\u001b[0m: "
     ]
    }
   ],
   "source": [
    "from turtle import *\n",
    "import time\n",
    "\n",
    "\n",
    "def set_theme(\n",
    "    canvas_width=1000,\n",
    "    canvas_height=1000,\n",
    "    background_color=(0, 0, 0),\n",
    "    pen_color=(\"dark grey\"),\n",
    "    pen_width=2,\n",
    "):\n",
    "    setup(canvas_width, canvas_height)\n",
    "    width(pen_width)\n",
    "    bgcolor(background_color)\n",
    "    pencolor(pen_color)\n",
    "    tracer(20)\n",
    "    hideturtle()\n",
    "    return canvas_width, canvas_height, background_color, pen_color, pen_width\n",
    "\n",
    "\n",
    "# hsv is easier to understand and manipulate than rgb\n",
    "from colorsys import hsv_to_rgb\n",
    "\n",
    "set_theme()\n",
    "\n",
    "r = 10\n",
    "w = 10\n",
    "revolutions = 20\n",
    "\n",
    "width(w)\n",
    "\n",
    "penup()\n",
    "goto(0, -r)\n",
    "pendown()\n",
    "\n",
    "for angle in range(0, 360 * revolutions):\n",
    "    pencolor(hsv_to_rgb(angle / 3600, 0.75, 0.75))\n",
    "    circle(r - (angle / revolutions), 1)\n",
    "    time.sleep(0.005)\n",
    "\n",
    "exitonclick()"
   ]
  },
  {
   "cell_type": "code",
   "execution_count": null,
   "metadata": {},
   "outputs": [],
   "source": []
  },
  {
   "cell_type": "code",
   "execution_count": null,
   "metadata": {},
   "outputs": [],
   "source": []
  }
 ],
 "metadata": {
  "kernelspec": {
   "display_name": "Python 3.8.10 ('venv': venv)",
   "language": "python",
   "name": "python3"
  },
  "language_info": {
   "codemirror_mode": {
    "name": "ipython",
    "version": 3
   },
   "file_extension": ".py",
   "mimetype": "text/x-python",
   "name": "python",
   "nbconvert_exporter": "python",
   "pygments_lexer": "ipython3",
   "version": "3.8.10"
  },
  "orig_nbformat": 4,
  "vscode": {
   "interpreter": {
    "hash": "18cfc626de382fd7e5c260dc36278836e929104365c0b1bbbea5b54cbf1bcf83"
   }
  }
 },
 "nbformat": 4,
 "nbformat_minor": 2
}
