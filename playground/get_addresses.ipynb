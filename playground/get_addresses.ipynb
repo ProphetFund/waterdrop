{
 "cells": [
  {
   "cell_type": "code",
   "execution_count": 5,
   "metadata": {},
   "outputs": [],
   "source": [
    "import requests\n",
    "import json\n",
    "from bs4 import BeautifulSoup\n",
    "import re\n",
    "\n",
    "base_url = \"https://faucetlink.to/\"\n",
    "endpoints = [\"goerli\", \"ropsten\", \"rinkeby\", \"kovan\", \"sepolia\"]\n",
    "\n",
    "\n",
    "faucets = {}\n",
    "for endpoint in endpoints:\n",
    "    html = requests.get(base_url + endpoint).text\n",
    "    addresses = re.findall(r\"0x[a-fA-F0-9]{40}\", html)\n",
    "    faucets[endpoint] = addresses\n",
    "\n",
    "\n",
    "# add some custom ones\n",
    "faucets[\"\"]\n",
    "\n",
    "# save to json\n",
    "with open(\"faucets.json\", \"w\") as f:\n",
    "    json.dump(faucets, f)"
   ]
  },
  {
   "cell_type": "code",
   "execution_count": 4,
   "metadata": {},
   "outputs": [
    {
     "data": {
      "text/plain": [
       "11"
      ]
     },
     "execution_count": 4,
     "metadata": {},
     "output_type": "execute_result"
    }
   ],
   "source": [
    "len(addresses)"
   ]
  }
 ],
 "metadata": {
  "kernelspec": {
   "display_name": "Python 3.8.10 ('venv': venv)",
   "language": "python",
   "name": "python3"
  },
  "language_info": {
   "codemirror_mode": {
    "name": "ipython",
    "version": 3
   },
   "file_extension": ".py",
   "mimetype": "text/x-python",
   "name": "python",
   "nbconvert_exporter": "python",
   "pygments_lexer": "ipython3",
   "version": "3.8.10"
  },
  "orig_nbformat": 4,
  "vscode": {
   "interpreter": {
    "hash": "18cfc626de382fd7e5c260dc36278836e929104365c0b1bbbea5b54cbf1bcf83"
   }
  }
 },
 "nbformat": 4,
 "nbformat_minor": 2
}
