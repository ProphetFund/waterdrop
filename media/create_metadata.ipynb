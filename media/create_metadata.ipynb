{
 "cells": [
  {
   "cell_type": "code",
   "execution_count": 7,
   "metadata": {},
   "outputs": [
    {
     "name": "stdout",
     "output_type": "stream",
     "text": [
      "There are 1000 images in the gallery.\n",
      "['0', '1', '2', '3', '4', '5', '6', '7', '8', '9']\n"
     ]
    }
   ],
   "source": [
    "# to be compatible with OpenSea and other exchanges, NFT's should be stored with specific metadata.\n",
    "# these have the format of:\n",
    "    # {\n",
    "    # \"description\": \"Waterdrop is a celebration of the good people in blockchain.\", \n",
    "    # \"external_url\": \"https://faucetdonors.xyz/3\", \n",
    "    # \"image\": \"ipfs://bafybeifvyoh4rcpk6fhsysqmrou3rgkmn4msvpdkqlifscpsdoohlnyudy/3.png\", \n",
    "    # \"name\": \"The 3rd waterdrop\",\n",
    "    # }\n",
    "\n",
    "# Create folder metadata and fill it\n",
    "\n",
    "import os\n",
    "import json\n",
    "\n",
    "if not os.path.exists(\"metadata\"):\n",
    "    os.makedirs(\"metadata\")\n",
    "\n",
    "# load all image names\n",
    "images = [f.split(\".\")[0] for f in os.listdir(\"images\")]\n",
    "# sort numerically\n",
    "images.sort(key=lambda x: int(x.split(\".\")[0]))\n",
    "print(f\"There are {len(images)} images in the gallery.\")\n",
    "print(images[:10])"
   ]
  },
  {
   "cell_type": "code",
   "execution_count": 19,
   "metadata": {},
   "outputs": [
    {
     "name": "stdout",
     "output_type": "stream",
     "text": [
      "There are 1000 metadata files in the metadata folder.\n"
     ]
    }
   ],
   "source": [
    "# word endings\n",
    "ordinal = lambda n: \"%d%s\" % (n,\"tsnrhtdd\"[(n//10%10!=1)*(n%10<4)*n%10::4])\n",
    "\n",
    "\n",
    "# create metadata\n",
    "metadata = []\n",
    "for i, image in enumerate(images):\n",
    "    metadata.append({\n",
    "        \"name\": f\"The {ordinal(i)} waterdrop\",\n",
    "        \"description\": f\"Waterdrop is a celebration of the good people in blockchain. This is the {ordinal(i)} waterdrop. \\n💦\",\n",
    "        \"image\": f\"ipfs://bafybeifvyoh4rcpk6fhsysqmrou3rgkmn4msvpdkqlifscpsdoohlnyudy/{i}.png\",\n",
    "        \"external_url\": f\"https://faucetdonors.xyz/i/{i}\"\n",
    "    })\n",
    "# save metadata in individual files\n",
    "for i, image in enumerate(images):\n",
    "    with open(f\"metadata/{image}.json\", \"w\") as file:\n",
    "        json.dump(metadata[i], file, indent=4)\n",
    "\n",
    "print(f\"There are {len(metadata)} metadata files in the metadata folder.\")"
   ]
  },
  {
   "cell_type": "code",
   "execution_count": null,
   "metadata": {},
   "outputs": [],
   "source": []
  }
 ],
 "metadata": {
  "kernelspec": {
   "display_name": "Python 3.8.10 ('venv': venv)",
   "language": "python",
   "name": "python3"
  },
  "language_info": {
   "codemirror_mode": {
    "name": "ipython",
    "version": 3
   },
   "file_extension": ".py",
   "mimetype": "text/x-python",
   "name": "python",
   "nbconvert_exporter": "python",
   "pygments_lexer": "ipython3",
   "version": "3.8.10"
  },
  "orig_nbformat": 4,
  "vscode": {
   "interpreter": {
    "hash": "18cfc626de382fd7e5c260dc36278836e929104365c0b1bbbea5b54cbf1bcf83"
   }
  }
 },
 "nbformat": 4,
 "nbformat_minor": 2
}
