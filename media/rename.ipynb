{
 "cells": [
  {
   "cell_type": "code",
   "execution_count": 6,
   "metadata": {},
   "outputs": [
    {
     "name": "stdout",
     "output_type": "stream",
     "text": [
      "1436\n"
     ]
    }
   ],
   "source": [
    "# load all images in /images/ and rename them 0-1000.png\n",
    "\n",
    "import os\n",
    "\n",
    "images = os.listdir(\"images\")\n",
    "print(len(images))\n",
    "for i, image in enumerate(images):\n",
    "    os.rename(f\"images/{image}\", f\"images/{i}_copy.png\")\n",
    "\n",
    "images = os.listdir(\"images\")\n",
    "for i, image in enumerate(images):\n",
    "    os.rename(f\"images/{image}\", f\"images/{i}.png\")\n",
    "\n",
    "# delete the rest of the images\n",
    "for i in range(1000, len(images)):\n",
    "    os.remove(f\"images/{i}.png\")"
   ]
  }
 ],
 "metadata": {
  "kernelspec": {
   "display_name": "Python 3.8.10 ('venv': venv)",
   "language": "python",
   "name": "python3"
  },
  "language_info": {
   "codemirror_mode": {
    "name": "ipython",
    "version": 3
   },
   "file_extension": ".py",
   "mimetype": "text/x-python",
   "name": "python",
   "nbconvert_exporter": "python",
   "pygments_lexer": "ipython3",
   "version": "3.8.10"
  },
  "orig_nbformat": 4,
  "vscode": {
   "interpreter": {
    "hash": "18cfc626de382fd7e5c260dc36278836e929104365c0b1bbbea5b54cbf1bcf83"
   }
  }
 },
 "nbformat": 4,
 "nbformat_minor": 2
}
