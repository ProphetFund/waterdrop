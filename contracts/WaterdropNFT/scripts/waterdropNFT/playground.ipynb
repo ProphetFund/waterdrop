{
 "cells": [
  {
   "cell_type": "code",
   "execution_count": 2,
   "metadata": {},
   "outputs": [
    {
     "ename": "ImportError",
     "evalue": "cannot import name 'Waterdrop' from 'brownie' (/home/hugo/Dropbox/Projects/waterdrop/venv/lib/python3.8/site-packages/brownie/__init__.py)",
     "output_type": "error",
     "traceback": [
      "\u001b[0;31m---------------------------------------------------------------------------\u001b[0m",
      "\u001b[0;31mImportError\u001b[0m                               Traceback (most recent call last)",
      "\u001b[1;32m/home/hugo/Dropbox/Projects/waterdrop/contracts/nft/scripts/waterdropNFT/playground.ipynb Cell 1\u001b[0m in \u001b[0;36m<cell line: 2>\u001b[0;34m()\u001b[0m\n\u001b[1;32m      <a href='vscode-notebook-cell:/home/hugo/Dropbox/Projects/waterdrop/contracts/nft/scripts/waterdropNFT/playground.ipynb#ch0000000?line=0'>1</a>\u001b[0m \u001b[39m#!/usr/bin/python3\u001b[39;00m\n\u001b[0;32m----> <a href='vscode-notebook-cell:/home/hugo/Dropbox/Projects/waterdrop/contracts/nft/scripts/waterdropNFT/playground.ipynb#ch0000000?line=1'>2</a>\u001b[0m \u001b[39mfrom\u001b[39;00m \u001b[39mbrownie\u001b[39;00m \u001b[39mimport\u001b[39;00m Waterdrop, accounts, network, config\n\u001b[1;32m      <a href='vscode-notebook-cell:/home/hugo/Dropbox/Projects/waterdrop/contracts/nft/scripts/waterdropNFT/playground.ipynb#ch0000000?line=2'>3</a>\u001b[0m \u001b[39mfrom\u001b[39;00m \u001b[39mscripts\u001b[39;00m\u001b[39m.\u001b[39;00m\u001b[39mhelpful_scripts\u001b[39;00m \u001b[39mimport\u001b[39;00m get_publish_source\n\u001b[1;32m      <a href='vscode-notebook-cell:/home/hugo/Dropbox/Projects/waterdrop/contracts/nft/scripts/waterdropNFT/playground.ipynb#ch0000000?line=4'>5</a>\u001b[0m \u001b[39mdef\u001b[39;00m \u001b[39mmain\u001b[39m():\n",
      "\u001b[0;31mImportError\u001b[0m: cannot import name 'Waterdrop' from 'brownie' (/home/hugo/Dropbox/Projects/waterdrop/venv/lib/python3.8/site-packages/brownie/__init__.py)"
     ]
    }
   ],
   "source": [
    "#!/usr/bin/python3\n",
    "from brownie import Waterdrop, accounts, network, config\n",
    "from scripts.helpful_scripts import get_publish_source\n",
    "\n",
    "def main():\n",
    "    dev = accounts.add(config[\"wallets\"][\"from_key\"])\n",
    "    print(network.show_active())\n",
    "    Waterdrop.deploy({\"from\": dev}, publish_source=get_publish_source())\n"
   ]
  },
  {
   "cell_type": "code",
   "execution_count": null,
   "metadata": {},
   "outputs": [],
   "source": []
  }
 ],
 "metadata": {
  "kernelspec": {
   "display_name": "Python 3.8.10 ('venv': venv)",
   "language": "python",
   "name": "python3"
  },
  "language_info": {
   "codemirror_mode": {
    "name": "ipython",
    "version": 3
   },
   "file_extension": ".py",
   "mimetype": "text/x-python",
   "name": "python",
   "nbconvert_exporter": "python",
   "pygments_lexer": "ipython3",
   "version": "3.8.10"
  },
  "orig_nbformat": 4,
  "vscode": {
   "interpreter": {
    "hash": "18cfc626de382fd7e5c260dc36278836e929104365c0b1bbbea5b54cbf1bcf83"
   }
  }
 },
 "nbformat": 4,
 "nbformat_minor": 2
}
